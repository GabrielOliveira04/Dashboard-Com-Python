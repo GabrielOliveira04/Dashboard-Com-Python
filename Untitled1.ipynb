{
 "cells": [
  {
   "cell_type": "code",
   "execution_count": null,
   "id": "ca0fdd41",
   "metadata": {},
   "outputs": [],
   "source": []
  },
  {
   "cell_type": "code",
   "execution_count": 55,
   "id": "cab1f8c6",
   "metadata": {},
   "outputs": [
    {
     "data": {
      "text/html": [
       "\n",
       "        <iframe\n",
       "            width=\"100%\"\n",
       "            height=\"650\"\n",
       "            src=\"http://127.0.0.1:8060/\"\n",
       "            frameborder=\"0\"\n",
       "            allowfullscreen\n",
       "            \n",
       "        ></iframe>\n",
       "        "
      ],
      "text/plain": [
       "<IPython.lib.display.IFrame at 0x1c801a42130>"
      ]
     },
     "metadata": {},
     "output_type": "display_data"
    }
   ],
   "source": [
    "\n",
    "\n",
    "\n",
    "from dash import Dash, html, dcc\n",
    "import plotly.express as px\n",
    "import pandas as pd\n",
    "\n",
    "app = Dash(__name__)\n",
    "#Grafico todo\n",
    "colors={'background': 'black', 'text' : 'red' }\n",
    "# assume you have a \"long-form\" data frame\n",
    "# see https://plotly.com/python/px-arguments/ for more options\n",
    "df = pd.read_excel('Vendas.xlsx')\n",
    "\n",
    "lista_marcas = [\"Treinamentos\",\"Programacao\", \"Todas\"]\n",
    "\n",
    "fig = px.bar(df, x=\"Produto\", y=\"Quantidade\", color=\"ID Loja\", barmode=\"group\")\n",
    "\n",
    "#\n",
    "fig.update_layout(\n",
    "    plot_bgcolor=colors['background'],\n",
    "    paper_bgcolor=colors['background'],\n",
    "    font_color=colors['text']\n",
    ")\n",
    "\n",
    "app.layout = html.Div(style={'textColor':'red','backgroundColor': colors['background'],'textAlign':'center'}, children=[\n",
    "    html.H1(children= \"É o Tal do Dash  do Gabriel\",style={'textAlign':'center','color': colors['text']} ),\n",
    "    html.Div(children='''\n",
    "        Dashboard de Vendas em Python\n",
    "    ''',style={'textAlign':'center','color': colors['text']}),\n",
    "    \n",
    "    html.H3(children=\"Vendas de cada Produto por Loja\",style={'textAlign':'center','color': colors['text']}),\n",
    "    html.Br(), \n",
    "    \n",
    "    dcc.RadioItems(lista_marcas, value=\"Todas\", id='selecao_marcas',labelStyle={'display': 'inline-block', 'color':'red','textAlign': 'center'}),\n",
    "    dcc.Graph(id='vendas_por_loja',figure=fig)\n",
    "    \n",
    "], )\n",
    "\n",
    "\n",
    "#callbacks\n",
    "\n",
    "\n",
    "\n",
    "\n",
    "\n",
    "\n",
    "if __name__ == '__main__':\n",
    "    app.run_server(port=8060)  # Use uma porta diferente, como 8060\n",
    "\n"
   ]
  },
  {
   "cell_type": "code",
   "execution_count": null,
   "id": "db849cef",
   "metadata": {},
   "outputs": [],
   "source": []
  },
  {
   "cell_type": "code",
   "execution_count": null,
   "id": "2f1df4df",
   "metadata": {},
   "outputs": [],
   "source": []
  }
 ],
 "metadata": {
  "kernelspec": {
   "display_name": "Python 3 (ipykernel)",
   "language": "python",
   "name": "python3"
  },
  "language_info": {
   "codemirror_mode": {
    "name": "ipython",
    "version": 3
   },
   "file_extension": ".py",
   "mimetype": "text/x-python",
   "name": "python",
   "nbconvert_exporter": "python",
   "pygments_lexer": "ipython3",
   "version": "3.9.13"
  }
 },
 "nbformat": 4,
 "nbformat_minor": 5
}
